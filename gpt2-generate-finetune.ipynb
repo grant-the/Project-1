{
 "cells": [
  {
   "cell_type": "markdown",
   "metadata": {
    "id": "H7LoMj4GA4n_"
   },
   "source": [
    "#  GPT-2 Generation and Fine-Tuning\n",
    "\n",
    "This notebook explores GPT-2 (Generative Pretrained Transformer-2) from OpenAI. Read more about it [here](https://openai.com/blog/better-language-models/).\n",
    "\n",
    "Activities include:\n",
    "\n",
    "0. Setup\n",
    "1. Generate samples from pre-trained gpt-2model\n",
    "2. Fine-tune gpt-2 on text of your choosing. \n",
    "\n",
    "Adapted by Robert Twomey (rtwomey@unl.edu) for Machine Learning for the Arts SP22 from this [google colab](https://colab.research.google.com/drive/1VLG8e7YSEwypxU-noRNhsv5dW4NfTGce) by [Max Woolf](http://minimaxir.com). See his repo [gpt-2-simple](https://github.com/minimaxir/gpt-2-simple)."
   ]
  },
  {
   "cell_type": "markdown",
   "metadata": {},
   "source": [
    "# 0. Setup"
   ]
  },
  {
   "cell_type": "markdown",
   "metadata": {},
   "source": [
    "Run once to install the library"
   ]
  },
  {
   "cell_type": "code",
   "execution_count": 1,
   "metadata": {},
   "outputs": [
    {
     "name": "stdout",
     "output_type": "stream",
     "text": [
      "Note: you may need to restart the kernel to use updated packages.\n"
     ]
    }
   ],
   "source": [
    "%pip install -q gpt-2-simple"
   ]
  },
  {
   "cell_type": "markdown",
   "metadata": {},
   "source": [
    "restart the kernel and run the imports"
   ]
  },
  {
   "cell_type": "code",
   "execution_count": 2,
   "metadata": {
    "id": "KBkpRgBCBS2_"
   },
   "outputs": [],
   "source": [
    "import gpt_2_simple as gpt2\n",
    "import tensorflow as tf\n",
    "from datetime import datetime"
   ]
  },
  {
   "cell_type": "markdown",
   "metadata": {
    "id": "Bj2IJLHP3KwE"
   },
   "source": [
    "## GPU\n",
    "\n",
    "Colaboratory uses either a Nvidia T4 GPU or an Nvidia K80 GPU. The T4 is slightly faster than the old K80 for training GPT-2, and has more memory allowing you to train the larger GPT-2 models and generate more text.\n",
    "\n",
    "You can verify which GPU is active by running the cell below."
   ]
  },
  {
   "cell_type": "code",
   "execution_count": 3,
   "metadata": {
    "colab": {
     "base_uri": "https://localhost:8080/"
    },
    "id": "sUmTooTW3osf",
    "outputId": "c9fcfa4f-277d-4b3e-8974-373066dc157b"
   },
   "outputs": [
    {
     "name": "stdout",
     "output_type": "stream",
     "text": [
      "Mon Feb 14 22:35:09 2022       \n",
      "+-----------------------------------------------------------------------------+\n",
      "| NVIDIA-SMI 470.63.01    Driver Version: 470.63.01    CUDA Version: 11.4     |\n",
      "|-------------------------------+----------------------+----------------------+\n",
      "| GPU  Name        Persistence-M| Bus-Id        Disp.A | Volatile Uncorr. ECC |\n",
      "| Fan  Temp  Perf  Pwr:Usage/Cap|         Memory-Usage | GPU-Util  Compute M. |\n",
      "|                               |                      |               MIG M. |\n",
      "|===============================+======================+======================|\n",
      "|   0  Tesla V100S-PCI...  On   | 00000000:60:00.0 Off |                    0 |\n",
      "| N/A   51C    P0    60W / 250W |      0MiB / 32510MiB |      0%      Default |\n",
      "|                               |                      |                  N/A |\n",
      "+-------------------------------+----------------------+----------------------+\n",
      "                                                                               \n",
      "+-----------------------------------------------------------------------------+\n",
      "| Processes:                                                                  |\n",
      "|  GPU   GI   CI        PID   Type   Process name                  GPU Memory |\n",
      "|        ID   ID                                                   Usage      |\n",
      "|=============================================================================|\n",
      "|  No running processes found                                                 |\n",
      "+-----------------------------------------------------------------------------+\n"
     ]
    }
   ],
   "source": [
    "!nvidia-smi"
   ]
  },
  {
   "cell_type": "markdown",
   "metadata": {},
   "source": [
    "note the memory usage (0MiB / 32510MiB) for the Tesla V100.\n",
    "You can re-rerun the above cell to see what memory your code/models are using during training."
   ]
  },
  {
   "cell_type": "markdown",
   "metadata": {
    "id": "0wXB05bPDYxS"
   },
   "source": [
    "## Downloading GPT-2\n",
    "\n",
    "If you're retraining a model on new text, you need to download the GPT-2 model first. \n",
    "\n",
    "There are three released sizes of GPT-2:\n",
    "\n",
    "* `124M` (default): the \"small\" model, 500MB on disk.\n",
    "* `355M`: the \"medium\" model, 1.5GB on disk.\n",
    "* `774M`: the \"large\" model, cannot currently be finetuned with Colaboratory but can be used to generate text from the pretrained model (see later in Notebook)\n",
    "* `1558M`: the \"extra large\", true model. Will not work if a K80/P4 GPU is attached to the notebook. (like `774M`, it cannot be finetuned).\n",
    "\n",
    "Larger models have more knowledge, but take longer to finetune and longer to generate text. You can specify which base model to use by changing `model_name` in the cells below.\n",
    "\n",
    "The next cell downloads it from Google Cloud Storage and saves it in the the current working directory at `/models/<model_name>`."
   ]
  },
  {
   "cell_type": "code",
   "execution_count": 4,
   "metadata": {
    "colab": {
     "base_uri": "https://localhost:8080/"
    },
    "id": "P8wSlgXoDPCR",
    "outputId": "10fc0d7c-d18f-4e11-a2af-bfade8b537eb"
   },
   "outputs": [],
   "source": [
    "model_name = \"355M\" # largest model we can fine-tune"
   ]
  },
  {
   "cell_type": "markdown",
   "metadata": {},
   "source": [
    "run once to download the file"
   ]
  },
  {
   "cell_type": "code",
   "execution_count": 5,
   "metadata": {},
   "outputs": [
    {
     "name": "stderr",
     "output_type": "stream",
     "text": [
      "Fetching checkpoint: 1.05Mit [00:00, 979Mit/s]                                                      \n",
      "Fetching encoder.json: 1.05Mit [00:00, 4.15Mit/s]                                                   \n",
      "Fetching hparams.json: 1.05Mit [00:00, 1.40Git/s]                                                   \n",
      "Fetching model.ckpt.data-00000-of-00001: 1.42Git [00:26, 52.8Mit/s]                                 \n",
      "Fetching model.ckpt.index: 1.05Mit [00:00, 1.24Git/s]                                               \n",
      "Fetching model.ckpt.meta: 1.05Mit [00:00, 4.21Mit/s]                                                \n",
      "Fetching vocab.bpe: 1.05Mit [00:00, 5.44Mit/s]                                                      \n"
     ]
    }
   ],
   "source": [
    "gpt2.download_gpt2(model_name=model_name)"
   ]
  },
  {
   "cell_type": "markdown",
   "metadata": {
    "id": "QQAN3M6RT7Kj"
   },
   "source": [
    "# 1. Generate Text From The Pretrained Model\n",
    "\n",
    "If you want to generate text from the pretrained model pass `model_name` to `gpt2.load_gpt2()` and `gpt2.generate()`. (This is currently the only way to generate text from the 774M or 1558M models with this notebook.)"
   ]
  },
  {
   "cell_type": "code",
   "execution_count": 6,
   "metadata": {
    "colab": {
     "base_uri": "https://localhost:8080/",
     "height": 124
    },
    "id": "BAe4NpKNUj2C",
    "outputId": "b09bfe1d-2ff8-4b8a-fffb-273d28d5d4ae"
   },
   "outputs": [
    {
     "name": "stderr",
     "output_type": "stream",
     "text": [
      "2022-02-14 22:35:53.160689: I tensorflow/core/platform/cpu_feature_guard.cc:142] This TensorFlow binary is optimized with oneAPI Deep Neural Network Library (oneDNN) to use the following CPU instructions in performance-critical operations:  SSE4.1 SSE4.2 AVX AVX2 AVX512F FMA\n",
      "To enable them in other operations, rebuild TensorFlow with the appropriate compiler flags.\n",
      "2022-02-14 22:35:53.822683: I tensorflow/core/common_runtime/gpu/gpu_device.cc:1510] Created device /job:localhost/replica:0/task:0/device:GPU:0 with 30979 MB memory:  -> device: 0, name: Tesla V100S-PCIE-32GB, pci bus id: 0000:60:00.0, compute capability: 7.0\n"
     ]
    },
    {
     "name": "stdout",
     "output_type": "stream",
     "text": [
      "Loading pretrained model models/355M/model.ckpt\n",
      "INFO:tensorflow:Restoring parameters from models/355M/model.ckpt\n"
     ]
    }
   ],
   "source": [
    "sess = gpt2.start_tf_sess()\n",
    "\n",
    "gpt2.load_gpt2(sess, model_name=model_name)"
   ]
  },
  {
   "cell_type": "markdown",
   "metadata": {},
   "source": [
    "## Sample from the model\n",
    "The follow cell samples from gpt-2, using the provided prefix (seed) and other parameters. It starts the TF session and generates the samples.\n",
    "\n",
    "Try changing the parameters below to change the output: \n",
    "- `prefix` is the prompt. This will be the starting string/seed for your generation. Use your own text. \n",
    "- `temperature` sets the variability/randomness of the output. Range 0.0-1.0\n",
    "- `length` sets the lenght of output (in tokens). max is 1024.\n"
   ]
  },
  {
   "cell_type": "code",
   "execution_count": 7,
   "metadata": {
    "colab": {
     "base_uri": "https://localhost:8080/",
     "height": 797
    },
    "id": "-xInIZKaU104",
    "outputId": "56348e28-7d08-45e3-c859-f26c0efd066d"
   },
   "outputs": [
    {
     "name": "stdout",
     "output_type": "stream",
     "text": [
      "Kansas City, Missouri]\n",
      "\n",
      "NEXT UP:\n",
      "\n",
      "The Detroit Lions will host the New Orleans Saints at Ford Field on Saturday, Sept. 26 at 7:30 p.m. ET.\n",
      "\n",
      "[Related: Can the New Orleans Saints make the playoffs? | The 10 best teams in the NFL]<|endoftext|>It's not an easy job to find a good website design. There are so many different elements of a website that you have to make decisions on every page of every page. The more pages you\n",
      "====================\n",
      "Kansas City, Missouri, was actually the first town in the country to ban homosexuality. In 1965, the Kansas City Journal reported, \"The ordinance was not a regulation of sex, but of behavior. The men and women were prohibited from engaging in homosexual conduct.\" In 1967, the Kansas City Star reported, \"Gay sex is illegal in Kansas City.\" In 1975, the Kansas City Star reported, \"It's illegal to be gay in Kansas City. The city council voted to ban it in 1973.\"\n",
      "\n",
      "The Kansas\n",
      "====================\n",
      "Kansas City, Missouri\n",
      "\n",
      "\"I'm going to leave my phone in the car,\" says comedian, actor, and filmmaker Bill Cosby. \"I'm going to leave my phone in the car and I'm going to write this letter to the court, and I'm going to ask that it be delivered to the judge.\"\n",
      "\n",
      "Cosby is the first comedian to successfully file a lawsuit against a doctor.\n",
      "\n",
      "The comedian's case against Dr. Tom Mitchell, who is accused of drugging and raping Cosby in\n",
      "====================\n",
      "Kansas City, Missouri, USA\n",
      "\n",
      "September 19, 2008\n",
      "\n",
      "Size: body length ~ 1.2 inches\n",
      "\n",
      "\n",
      "This was a beautiful flower. The flower was very large but didn't seem to be affected by the sun. It bloomed on a fairly bright, hot day.<|endoftext|>CURRENTLY UPDATED:\n",
      "\n",
      "Compatibility\n",
      "\n",
      "For users of the new & updated versions of the game, please follow the instructions here:\n",
      "\n",
      "1) Download the game from the official website and install it.\n",
      "====================\n",
      "Kansas City, Missouri)\n",
      "\n",
      "2. Chicago, Illinois (Illinois)\n",
      "\n",
      "3. St. Louis, Missouri (Missouri)\n",
      "\n",
      "4. Philadelphia, Pennsylvania (Pennsylvania)\n",
      "\n",
      "5. Kansas City, Missouri (Kansas City, Missouri)\n",
      "\n",
      "6. San Francisco, California (California)\n",
      "\n",
      "7. Atlanta, Georgia (Georgia)\n",
      "\n",
      "8. Washington, D.C. (Washington, D.C.)\n",
      "\n",
      "9. Portland, Oregon (Oregon)\n",
      "\n",
      "\n",
      "====================\n"
     ]
    }
   ],
   "source": [
    "gpt2.generate(sess,\n",
    "              model_name=model_name,\n",
    "              prefix=\"Kansas City, Missouri\",\n",
    "              length=100,\n",
    "              temperature=0.7,\n",
    "              top_p=0.9,\n",
    "              nsamples=5,\n",
    "              batch_size=5\n",
    "              )"
   ]
  },
  {
   "cell_type": "markdown",
   "metadata": {},
   "source": [
    "## Activities\n",
    "- try varying the prefix. \n",
    "  - what length of prefix works best with the given model? \n",
    "  - how does the choice of prefix change the format/form of the output.\n",
    "- try varying the temperature.\n",
    "- try loading the different sized models (124M, 355M, 774M, 1558M) and generate text without changing the other parameters. \n",
    "  - Do you notice any qualitative differences in the output? "
   ]
  },
  {
   "cell_type": "markdown",
   "metadata": {},
   "source": [
    "# 2. Fine-Tuning GPT-2"
   ]
  },
  {
   "cell_type": "markdown",
   "metadata": {},
   "source": [
    "If you have already generated with gpt2, you need to reset the tf graph and gpt2 session. Otherwise, we create a new one:"
   ]
  },
  {
   "cell_type": "code",
   "execution_count": 8,
   "metadata": {
    "colab": {
     "base_uri": "https://localhost:8080/"
    },
    "id": "aeXshJM-Cuaf",
    "outputId": "a3c75caa-917b-4818-ca2d-d78610d8b6f2"
   },
   "outputs": [
    {
     "name": "stderr",
     "output_type": "stream",
     "text": [
      "2022-02-14 22:38:39.093844: I tensorflow/core/common_runtime/gpu/gpu_device.cc:1510] Created device /job:localhost/replica:0/task:0/device:GPU:0 with 30979 MB memory:  -> device: 0, name: Tesla V100S-PCIE-32GB, pci bus id: 0000:60:00.0, compute capability: 7.0\n"
     ]
    }
   ],
   "source": [
    "#model_name = \"355M\" # same model as selected above\n",
    "\n",
    "tf.compat.v1.reset_default_graph()\n",
    "\n",
    "# check if sess exists (e.g. if we ran section 1 above)\n",
    "var_exists = 'sess' in locals() or 'sess' in globals()\n",
    "\n",
    "if not var_exists:\n",
    "    sess = gpt2.start_tf_sess()\n",
    "else:\n",
    "    sess = gpt2.reset_session(sess)"
   ]
  },
  {
   "cell_type": "markdown",
   "metadata": {
    "id": "HeeSKtNWUedE"
   },
   "source": [
    "## Upload a text file\n",
    "For this, we will use a text file you provide to finetune (continue training) GPT-2. You can use any plain text (.txt) file. \n",
    "\n",
    "Simply drag and dropy our text file into the file browser at left. \n",
    "\n",
    "Once you have uploaded your file, update the file name in the cell below, then run it."
   ]
  },
  {
   "cell_type": "code",
   "execution_count": 9,
   "metadata": {
    "id": "6OFnPCLADfll"
   },
   "outputs": [],
   "source": [
    "file_name = \"UFO sightings.rtf\" # your file here"
   ]
  },
  {
   "cell_type": "markdown",
   "metadata": {
    "id": "LdpZQXknFNY3"
   },
   "source": [
    "## Run the finetuning\n",
    "\n",
    "The next cell will start the actual finetuning of GPT-2. It creates a persistent TensorFlow session which stores the training config, then runs the training for the specified number of `steps`. (to have the finetuning run indefinitely, set `steps = -1`)\n",
    "\n",
    "The model checkpoints will be saved in `/checkpoint/run1` by default. The checkpoints are saved every `save_every` steps (can be changed) and when the cell is stopped.\n",
    "\n",
    "The training might time out after 4ish hours; make sure you end training and save the results so you don't lose them. If your input text is smaller, training might proceed more quickly.\n",
    "\n",
    "Other optional-but-helpful parameters for `gpt2.finetune`:\n",
    "\n",
    "*  **`restore_from`**: Set to `fresh` to start training from the base GPT-2, or set to `latest` to restart training from an existing checkpoint.\n",
    "* **`sample_every`**: Number of steps to print example output\n",
    "* **`print_every`**: Number of steps to print training progress.\n",
    "* **`learning_rate`**:  Learning rate for the training. (default `1e-4`, can lower to `1e-5` if you have <1MB input data)\n",
    "*  **`run_name`**: subfolder within `checkpoint` to save the model. This is useful if you want to work with multiple models (will also need to specify  `run_name` when loading the model)\n",
    "* **`overwrite`**: Set to `True` if you want to continue finetuning an existing model (w/ `restore_from='latest'`) without creating duplicate copies. "
   ]
  },
  {
   "cell_type": "code",
   "execution_count": 10,
   "metadata": {},
   "outputs": [
    {
     "name": "stdout",
     "output_type": "stream",
     "text": [
      "For larger models, the recommended finetune() parameters are:\n",
      "\tuse_memory_saving_gradients = True\n",
      "\tonly_train_transformer_layers = True\n",
      "\taccumulate_gradients = 1\n",
      "\n"
     ]
    },
    {
     "name": "stderr",
     "output_type": "stream",
     "text": [
      "2022-02-14 22:38:53.220478: I tensorflow/core/common_runtime/gpu/gpu_device.cc:1510] Created device /job:localhost/replica:0/task:0/device:GPU:0 with 30979 MB memory:  -> device: 0, name: Tesla V100S-PCIE-32GB, pci bus id: 0000:60:00.0, compute capability: 7.0\n"
     ]
    },
    {
     "name": "stdout",
     "output_type": "stream",
     "text": [
      "Loading checkpoint models/355M/model.ckpt\n",
      "INFO:tensorflow:Restoring parameters from models/355M/model.ckpt\n",
      "Loading dataset...\n"
     ]
    },
    {
     "name": "stderr",
     "output_type": "stream",
     "text": [
      "100%|██████████| 1/1 [00:00<00:00,  6.18it/s]"
     ]
    },
    {
     "name": "stdout",
     "output_type": "stream",
     "text": [
      "dataset has 40695 tokens\n",
      "Training...\n"
     ]
    },
    {
     "name": "stderr",
     "output_type": "stream",
     "text": [
      "\n"
     ]
    },
    {
     "name": "stdout",
     "output_type": "stream",
     "text": [
      "[10 | 24.55] loss=1.90 avg=1.90\n",
      "[20 | 42.86] loss=1.79 avg=1.85\n",
      "[30 | 61.24] loss=1.58 avg=1.76\n",
      "[40 | 79.63] loss=1.62 avg=1.72\n",
      "[50 | 98.01] loss=1.48 avg=1.67\n",
      "[60 | 116.43] loss=1.45 avg=1.64\n",
      "[70 | 134.85] loss=1.44 avg=1.61\n",
      "======== SAMPLE 1 ========\n",
      " 26,000 to 18,500 were killed by artillery fire during the following 17 days.       It was believed that the heaviest shelling on 18 July came from the 3rd Battalion, 26th Firing Troops, a reserve unit assigned to a supply route in northwest Morocco during the battle.  Two weeks later, in September, one of three tanks of the 6th Tank Corps, under the command of Maj.       W. H. Williams III, attempted a deep penetration-pointing-missile, which was turned away by the target vehicle.  Two months later, in October of the same year, two additional tanks from the 4-1/2th Division, under the command of Maj. Gen. B. L. Fowle, under heavy artillery fire, engaged the 26th Division artillery during a day-long bombardment of the southwest.  The enemy was engaged in one intense action for 10 minutes.  The tank crew lost five men.  They returned to base after 14 hours, and the tank was returned to service a few days later.  One tank crewman was awarded the Congressional Medal of Honor, and the other three had their vehicles and their equipment returned safely to France.  Two tanks from the 6th and one from the 4-1/2nd Divisions were damaged by a bomb dropped by U- boats on 12 March 1944, when they attempted an attempt to destroy a German aircraft carrier.  During the raid, the U-boats were fired upon, and an officer of the destroyer crew was killed.  Another tank crew took part in several other \"siege\" raids during the following year.  Five of a crew of 30 were killed by enemy fire during 12 June 1944; two others were blown to pieces.  Several tanks from five tank units from the 4-1/2th Divisions were damaged by gunfire during an attack by 10 T-34 tanks on 17 June 1944.  One crewman was awarded the Congressional Medal of Honor for his actions.  Three tanks of the 3rd Armored Division were tanked during an enemy raid on 4 June 1944. Two tankers were killed.  Ten more M1A1 gunners were killed during 12 separate tanks, truck, and airplane attacks over 4 days between 4 April and 5 July 1944.  One M1A1 crewman was awarded the Congressional Medal of Honor for his actions.  One M4A1 tank and one M6A1 gunner were lost when one M4A1 was hit by an enemy shell and caught fire on the right side.  One M20A1 crewman, with two crewmen of the 29th Tank Battalion, lost his life while attempting to stop a convoy of 6 German vehicles under pursuit on 23 June 1944.  One crewman was killed during a 7-day firefight near Wounded Knee, California, during which three tanks and a supply train were destroyed.  One crew from the 8th and 45th Infantry Divisions of the 30th Infantry Division lost an M23 gun gun battery during a 4-day battle over 3 days in 2 February 1945.  One platoon with a platoon of 3nd Battalion (2d Infantry Division), 8th Armored Cavalry Company, on a patrol in France, lost a 2 day time battle during 3-4 June 1944.  One tank crewman with the 2d Tank Battalion of the 21st Marines (1st Marine Division), during an assault on a strong point near Bessarabia, France, lost one officer and 3 enlisted men.  One crewman, Maj. E. G. Brown, died after falling off of a tank and being hit by a mortar shell while making a roll dive in an 8-10 p.m. attack on a road.  One crewman was killed during a 6-day ambush. Two M1A1 gunners lost their lives during a 3-day patrol against a group of enemy forces east of the village of Monton (France) during 2 March 1945.  One crewman was killed during a 4-day firefight.  One M16A2 gunner was killed during a 3-day assault on the village of Montleuze (France) during a 2-day patrol.  Two crewmen from the 44th Tank Battalion, under the command of Lt. C. H. Minkiewicz and Maj. N. K. Jahn, lost their lives during a 5-day counterattacks through a forest during a 3-day patrol into Germany in mid- March 1945.  One tank crew officer lost their life during an 8-9 p.m. counterattack in France (3 July 1945.)  One tank crewman suffered a broken arm from having his helmet and radio gear blown in the 10-15 miles southeast of the French port city of Caen.  One M1A2 gunner was killed during a 19-minute firefight during a 3-day infantry raid in France on 16 June 1944\n",
      "\n",
      "[80 | 168.04] loss=1.51 avg=1.59\n",
      "[90 | 186.44] loss=1.40 avg=1.57\n",
      "[100 | 204.84] loss=1.28 avg=1.54\n",
      "[110 | 223.21] loss=1.32 avg=1.52\n",
      "[120 | 241.58] loss=1.26 avg=1.50\n",
      "[130 | 259.95] loss=1.24 avg=1.48\n",
      "[140 | 278.32] loss=1.08 avg=1.45\n",
      "======== SAMPLE 1 ========\n",
      " Wilson, the officer, was a white man of about 25 years' experience. He had a black man's moustache and brown hair. Brown smoke was seen from the top deck near the sun.\n",
      "\n",
      "\n",
      "On or about October 26, the same pilot observed a \"blue, circular object\" moving northwest along straight, level, level flight at an estimated speed of Mach 3.5 (5,700' per hour). The pilot estimated approximately 250' north and 60' east of them. Sighting lasted 2 minutes. About 1 hour later another object similar to the first with a similar color and design crossed the radar screen toward them. Sighting lasted 3 minutes.\n",
      "\n",
      "\n",
      "On or about November 9, 1952 a USAF DC-3 transport with 30 or more passengers and crew on board, flew north at an estimated altitude of 60kts for 30 minutes. About 10 minutes after the 9th sighting, a bright light changed to orange and faded to a brilliant light 10 minutes later. No further data was received from the aircraft.\n",
      "\n",
      "\n",
      "On or about December 9, 1952 a USAF P6Y-2C Skyraider (40 nd Lt E.T. Robinson; flight instructor, U.S.N.) flew over the Gulf of Florida from New Orleans, Louisiana. Observed two objects with orange lights 30 to 70 minutes apart. At one time the objects were seen to be travelling fast but, after 5 minutes, could not be tracked. No further data was received from the aircraft.\n",
      "\n",
      "\n",
      "On or about January 18, 1954, a USAF A-3 Sentry (40th Weather Reconnaissance Squadron; flying nights) flew through the night near Lake Charles, Louisiana. The aircraft was tracking large groups of military aircraft, but it was unable to track the objects for more than 3 minutes. The following day saw reports from some of its pilots that they had seen objects similar to those seen above Lake Charles. Note: The USAF reports were from the 6th weather radar station and not from any of its other 7 weather stations. The USAF reports have not been reproduced in any USAF or NACA publications or reports since the data was found.\n",
      "\n",
      "\n",
      "On March 15, 1954, a USAF DC-3 transport in a night raid over China tracked a series of 5-10 lights for 1 hour. One day later in March the same aircraft was involved in another incident, this one involving numerous similar unidentified lights flying south from Nairobi, Kenya.\n",
      "\n",
      "\n",
      "On March 22, 1954, USAF HMMWV aircraft of USAF AC-121D aerial refuelling tanker crew encountered a group of 30 to 40 green lights overhead during their 2-14 hour refueling mission on the Suez Canal. Three hours later at midnight a very bright object flew extremely fast over the canal, then came in front of the tanker, and fired off a 10-14 second stream of sparks. The following morning, on March 26th, the crew took a photograph that showed a large, bright blue, white and red light from overhead. On April 6th, a witness reported that while flying at 400 m.p.h. on a day when the radar crosshairs and other weather data was low, he estimated the object's luminous area to be approximately 2,000' from the horizon, and its altitude to be 300 m.p.h. Four minutes after the sighting, he heard a very loud noise in the distance.\n",
      "\n",
      "On May 17, 1954, pilot N.W. Smith observed \"three very bright lights in a very erratic formation for 5-8 minutes\" near Cape May, New Jersey, and later a further 30 minutes further in a stationary formation on the Atlantic coast. No further data was obtained from the aircraft.\n",
      "\n",
      "\n",
      "In the late afternoon of June 19, 1954, an H-day mission of the USAF B-25 bomber (41st Fighter/Bomber Training Squadron as lead plane) was to have departed from the Edwards AFB, California, to the west of Miami, Florida, after a 30 minute static formation exercise. The aircraft stopped on radar and a small, round object with a metallic-greyish tint moved along a line while flashing green lights blinked on and off. The crew was unable to identify the object.\n",
      "\n",
      "\n",
      "In June 1954 an USAF B-26 bomber, on an E/A-6 aircraft observation mission, was tracking a flock of geese which varied from white to red. One hour later, at around 12:50 am, four or five bright white lights in an almost circular formation changed into formation formations and returned to the same place 30 seconds after the radar picked them up. The data from the P-3E Orion data base, which provides the data used in USAF H-day reports on the H4 data base (H4 or H-44), does not seem to match either H4 data or H-4 data from the USAF B-26 pilot reports. This seems to be a duplication of the reports of the USAF flying the B-43s, which were the last\n",
      "\n",
      "[150 | 307.22] loss=1.06 avg=1.42\n",
      "Saving checkpoint/run1/model-150\n"
     ]
    }
   ],
   "source": [
    "gpt2.finetune(sess,\n",
    "              dataset=file_name,\n",
    "              model_name=model_name,\n",
    "              steps=150,\n",
    "              restore_from='fresh', # change to 'latest' to resume\n",
    "              run_name='run1',\n",
    "              print_every=10,\n",
    "              learning_rate=1e-5,\n",
    "              sample_every=70,\n",
    "              save_every=150\n",
    "              )"
   ]
  },
  {
   "cell_type": "markdown",
   "metadata": {
    "id": "IXSuTNERaw6K"
   },
   "source": [
    "## Notes on finetuning\n",
    "\n",
    "Keep an eye on the loss, and how quickly it is dropping. A too-rapid drop in loss could be a sign of overfitting, and a learning rate (lr) that is too high. \n",
    "\n",
    "After the model is trained, you can download the checkpoint folder to save your work. Training checkpoints are saved to `checkpoint/run1` (or whatever you chose for the run name above).\n",
    "\n",
    "You can compress it to a rar file and download that. Ask the instructor how.\n",
    "\n",
    "You're done! Feel free to go to the Generate Text From The Trained Model section to generate text based on your retrained model."
   ]
  },
  {
   "cell_type": "markdown",
   "metadata": {},
   "source": [
    "## Finetune some more"
   ]
  },
  {
   "cell_type": "markdown",
   "metadata": {},
   "source": [
    "If you have already generated with gpt2, you need to reset the tf graph and gpt2 session. Otherwise, we create a new one:"
   ]
  },
  {
   "cell_type": "code",
   "execution_count": 11,
   "metadata": {
    "colab": {
     "base_uri": "https://localhost:8080/"
    },
    "id": "aeXshJM-Cuaf",
    "outputId": "a3c75caa-917b-4818-ca2d-d78610d8b6f2"
   },
   "outputs": [
    {
     "name": "stderr",
     "output_type": "stream",
     "text": [
      "2022-02-14 22:44:29.913903: I tensorflow/core/common_runtime/gpu/gpu_device.cc:1510] Created device /job:localhost/replica:0/task:0/device:GPU:0 with 30979 MB memory:  -> device: 0, name: Tesla V100S-PCIE-32GB, pci bus id: 0000:60:00.0, compute capability: 7.0\n"
     ]
    }
   ],
   "source": [
    "#model_name = \"355M\" # same model as selected above\n",
    "\n",
    "tf.compat.v1.reset_default_graph()\n",
    "\n",
    "# check if sess exists (e.g. if we ran section 1 above)\n",
    "var_exists = 'sess' in locals() or 'sess' in globals()\n",
    "\n",
    "if not var_exists:\n",
    "    sess = gpt2.start_tf_sess()\n",
    "else:\n",
    "    sess = gpt2.reset_session(sess)"
   ]
  },
  {
   "cell_type": "markdown",
   "metadata": {},
   "source": [
    "To fine-tune some more, run the following. Be sure to increase the number of steps (if it was `500` before, change to `1000` to train for 500 more. the number is cumulative)."
   ]
  },
  {
   "cell_type": "code",
   "execution_count": 12,
   "metadata": {},
   "outputs": [
    {
     "name": "stdout",
     "output_type": "stream",
     "text": [
      "For larger models, the recommended finetune() parameters are:\n",
      "\tuse_memory_saving_gradients = True\n",
      "\tonly_train_transformer_layers = True\n",
      "\taccumulate_gradients = 1\n",
      "\n",
      "Loading checkpoint checkpoint/run1/model-150\n",
      "INFO:tensorflow:Restoring parameters from checkpoint/run1/model-150\n",
      "Loading dataset...\n"
     ]
    },
    {
     "name": "stderr",
     "output_type": "stream",
     "text": [
      "100%|██████████| 1/1 [00:00<00:00,  6.88it/s]"
     ]
    },
    {
     "name": "stdout",
     "output_type": "stream",
     "text": [
      "dataset has 40695 tokens\n",
      "Training...\n"
     ]
    },
    {
     "name": "stderr",
     "output_type": "stream",
     "text": [
      "\n"
     ]
    },
    {
     "name": "stdout",
     "output_type": "stream",
     "text": [
      "[160 | 23.51] loss=1.22 avg=1.22\n",
      "[170 | 41.85] loss=1.02 avg=1.12\n",
      "[180 | 60.23] loss=1.03 avg=1.09\n",
      "[190 | 78.60] loss=1.04 avg=1.08\n",
      "[200 | 96.97] loss=1.01 avg=1.06\n",
      "Saving checkpoint/run1/model-200\n",
      "======== SAMPLE 1 ========\n",
      " lights: green, red, blue. Distance: 8 miles\"\n",
      "\n",
      "5 June 1952; Middletown, Ohio. 9 p.m. Witnesses: three USAF pilots involved in interception overhead exercise. One bright white object flew very fast, straight and level as it flew, for 4-5 seconds.  It made an abrupt right turn to the left, then to the right with a tremendous roar.  Sighting lasted 2-3 minutes.  No further details are known.   49-56 March 1953; St. Lous, Louisiana. 6.4 a.m. Witness: USAF pilot involved in aerial observation.  One oval-shaped object, as dark as a pinhead, with a dark rim and a white light rimmed with a bright white light, hovered above a highway for an estimated 5 minutes. Sighting lasted 10 minutes.   50-60? July 1953?; Bermuda. 1 a.m. Witness: radar trackers.  One elliptical object with a thin, funnel-shaped area in the middle, hovered, bobbed and flew erratically during a 6 hour period.   51-54 April 1954; near San Antonio, Texas. 9:20 p.m. Witnesses: USAF AC&W radar operators in a patrol plane.  One long cylinder with a dome at one end and no exhaust like the exhausts of other mid-sized light aircraft, hovered for 3-4 seconds over an airfield and a few miles away.  After a little while, it turned and flew away very fast toward the north.   55-60 July 1954?; Bermuda. l0 p.m. Witness: Lt. Col. S.V. Jones of USAF AC&W.  One bright light which blinked at times, followed a patrol plane flying low at 150-160 kts.  Several airplanes were disturbed during the 30 minute observation.   Witness: a civilian.  Sighting lasted 5 minutes. 62-70? July 1954??; east of Guam. Two objects with flashing lights. 9:15 p.m. Witness: USAF radar operators in a C-47 transport plane.  One light turned red then green and moved away during the 30 minute observation.   77 April 1956; Willsboro, Wisconsin. 1 a.m. witness: W.H. Lindner, M.A. aeronautical engineering student. One orange, white and blue light moved from west to north, zigzagged and sped away at more than 3,000 m.p.h.   72-77 December 1956; Langley AFB, Virginia. 2:55 p.m. Witnesses: USAF Lt. Col. J.A. Stahl and Maj. D.B. Smith at control tower. One yellow light flew straight and level, hovered, then flew very fast.                                                              32 files turned up ; some of which showed strange behavior. 27 files made several strange jerky turns, some of them very fast, others very slowly. 28 files flew at 400 m.p.h. for several minutes each. March 27, 1963?; at Toulouse, France. 2:30 or 3:15 a.m. Witness: French farmer, flying a Beech T-wing monoplane.  One yellow light circled and flew rapidly in a fast-moving V-formation, which slowed as it flew away, during the 60 minute observation.       June 23, 1963; near Chiappet, North Carolina. 4 p.m. Witness: A/2c E.E. McKean. Two green lights flew in tight formation, very fast when turned around.  Case lost with 6 radar stops. June 24, 1963??; near Albuquerque, New Mexico. 9:30 p.m. Witnesses: S/2d Lt. Hart and two others.  One bright orange light flew straight and level during an 8 minute observation.  Case not returned, may have gone to the bottom of the ocean. July 6, 1963; near Grand Rapids, Michigan. 1 a.m. Witness?: W.Y. Linville (son of USMC veteran Maj. S\\2d Lt. Linville). During an aerial reconnaissance mission, a metallic object flew like a plane for several minutes.  Case lost with 2 more reports at night in late 1953. July 23, 1963, at Corvallis, Oregon??; 3 p.m. Witness: E.J. Stahl. A group of 5 lights hovered for 20 minutes. Sighting lasted 5 minutes.  Case returned to original owner from a shipyard.  Sighting from\n",
      "\n",
      "[210 | 131.70] loss=0.89 avg=1.03\n",
      "[220 | 150.08] loss=0.95 avg=1.02\n",
      "[230 | 168.46] loss=0.86 avg=1.00\n",
      "[240 | 186.86] loss=0.82 avg=0.98\n",
      "[250 | 205.25] loss=0.78 avg=0.96\n",
      "[260 | 223.65] loss=0.76 avg=0.94\n",
      "[270 | 242.01] loss=0.66 avg=0.91\n",
      "[280 | 260.40] loss=0.59 avg=0.89\n",
      "[290 | 278.77] loss=0.58 avg=0.86\n",
      "[300 | 297.13] loss=0.51 avg=0.84\n",
      "Saving checkpoint/run1/model-300\n",
      "WARNING:tensorflow:From /util/opt/anaconda/deployed-conda-envs/packages/tensorflow-gpu/envs/tensorflow-gpu-2.6.0-py39/lib/python3.9/site-packages/tensorflow/python/training/saver.py:969: remove_checkpoint (from tensorflow.python.training.checkpoint_management) is deprecated and will be removed in a future version.\n",
      "Instructions for updating:\n",
      "Use standard file APIs to delete files with this prefix.\n",
      "======== SAMPLE 1 ========\n",
      "                            56\\\n",
      "       Nov. 17, 1954; Cape April, Georgia. l0:00 a.m. Witness:  Mrs. \\\n",
      "       Warren W. Hunter. One oval-shaped object; metallic in color,\\\n",
      "       twice the volume of the moon, flew at terrific speed, dimmed into\\\n",
      "       sky after 3-5 minutes, brightened to white after 23 minutes.\\\n",
      "\\\n",
      "       Nov. 29, 1954; Barstow, California.  8:28 p.m.  Witness:  USAF\\\n",
      "       Lt. R.W. Burt. Three bright lights.  A medium fighter. 7\\\n",
      "       minutes.\\\n",
      "\\\n",
      "       Nov. 29, 1954; Los Angeles, California.  8:30 p.m.  or 9:30\\\n",
      "       p.m.  Witness:  R. Lee Ermey. One large, incandescent, white, square\\\n",
      "       colored spot, which was 300 yards away, followed a pilotless U2 plane\\\n",
      "       at least 30 minutes.\\\n",
      "\\\n",
      "       Dec. 9, 1954; Rabat, French Morocco. 10:25 p.m.\\\n",
      "       Witnesses:  C.A. Rousset, Jean-Luc Nascimenti. Two domed spheres,\\\n",
      "       one with a dome top, came barreling toward the northwest at\\\n",
      "       600 kts.  (650 m.p.h.), vertical and horizontal, in 30-second\\\n",
      "       flashes.  Sighting lasted 1-2 seconds.\\\n",
      "\\\n",
      "       Jan. 6, 1955; Chickasaw, Alabama.  11:10 a.m.  Witness:  Dorothy\\\n",
      "       Robinson. One large disc with a blue tinge, flew very fast, then\\\n",
      "       descended and circled overhead for 3-4 minutes.\\\n",
      "\\\n",
      "       Jan. 12, 1955; Patuxent River, Maryland. 12:45 p.m. Witnesses:\\\n",
      "       pilot and radar operator of USAF F-94 jet interceptor (N11- Radar\\\n",
      "      ies Corp.). One disc shaped like the Moon, white with blue\\\n",
      "       lights, flew 2.5 minutes, 40.5' above T- target area.\\\n",
      "\\\n",
      "       Feb. 16, 1955; Columbus AFB, Maryland.  4:08 p.m.  Witness:  R.E. Zellerweger,\\\n",
      "       19.5'. One short, thin, orange light with a red trim and a\\\n",
      "       hovered 2.5' above the ground and turned black.  It then changed\\\n",
      "       colorless to white.  Sighting lasted 3-4 seconds.\\\n",
      "\\\n",
      "       April 5, 1955; Teterboro, New Jersey.  7:55 p.m.  Witness:\\\n",
      "       Radio Corporation of America technical assistant.  Hand-written memo:\\\n",
      "       in marker pen by holder.  Title:\\\n",
      "\\\n",
      "       April 12, 1955; McGuire AFB, New Jersey. 6:28 p.m.\\\n",
      "       Witnesses:  Mr. and Mrs. G.H. Stevens, analysts for the U.S. Air\\\n",
      "       Force. One grey, round and reflective object flew at a speed\\\n",
      "       of  452 m./sec. for about 30 seconds.\\\n",
      "\\\n",
      "       April 27, 1955; Lock 746, U.S. Army Intelligence Psychological Operations\\\n",
      "       Control Data Center.  Nine minute sighting.\\\n",
      "\\\n",
      "       May 5, 1955; Willsboro, North Carolina. 4:05 p.m. Witness:\\\n",
      "       Army Sgt. B.V. Brown. One round, blue-white light flew at\\\n",
      "       steady altitude for 2 minutes.\\\n",
      "\\\n",
      "    \n",
      "\n",
      "[310 | 330.10] loss=0.51 avg=0.82\n",
      "[320 | 348.48] loss=0.44 avg=0.79\n",
      "[330 | 366.86] loss=0.43 avg=0.77\n",
      "[340 | 385.26] loss=0.45 avg=0.75\n",
      "[350 | 403.66] loss=0.35 avg=0.73\n",
      "[360 | 422.02] loss=0.36 avg=0.71\n",
      "[370 | 440.39] loss=0.30 avg=0.69\n",
      "[380 | 458.76] loss=0.27 avg=0.67\n",
      "[390 | 477.14] loss=0.33 avg=0.65\n",
      "[400 | 495.51] loss=0.28 avg=0.64\n",
      "Saving checkpoint/run1/model-400\n",
      "======== SAMPLE 1 ========\n",
      " at 11:54 p.m. when a black Ford F-150 pickup truck with Arizona plates pulled up next to the camp. The occupants were two men in black, one of them spoke broken English. Two Japanese girls wearing all black entered the truck, placed their hands over their mouths to stop them speaking and slowly climbed out. One of them spoke the language of the Eskimo people. When they were out of view of the pilot of the Beechcraft Ridgerone, the radio abruptly stopped playing and was heard to buzz for 8 minutes.\\\n",
      "\n",
      "\\\n",
      "\n",
      "28.  Radio Pennsylvania Case, Los Angeles, California. 4:45 a.m.  Witness:  R.J. Sheppard. A large silver, flat-bottomed boat or craft, about 60' long, 25' wide and 20' thick,\\\n",
      "\n",
      "\\\n",
      "\n",
      "40' high,\\\n",
      "\n",
      "12' wide, 10' deep and 4' high.  One white semi or four cars parked in a circular formation in\\\n",
      "\n",
      "12' of water, having a row of 4 aluminum picnic tables set in the center. A long thin line of\\\n",
      "\n",
      "clear blue light approached the object and then disappeared after 2 minutes.  Witnesses:  several\\\n",
      "\n",
      "\\\n",
      "\n",
      "40' Range Researcher for U.S. Navy. One minute.\\\n",
      "\n",
      "\\\n",
      "\n",
      "43\\\n",
      "\n",
      "54\\\n",
      "\n",
      "63\\\n",
      "\n",
      "\\\n",
      "\n",
      "\\\n",
      "\n",
      "\\\n",
      "\n",
      "\\\n",
      "\n",
      "\\\n",
      "\n",
      "\\\n",
      "\n",
      "\\\n",
      "\n",
      "\\\n",
      "\n",
      "\\\n",
      "\n",
      "\\\n",
      "\n",
      "\\\n",
      "\n",
      "\\\n",
      "\n",
      "\\\n",
      "\n",
      "\\\n",
      "\n",
      "\\\n",
      "\n",
      "\\\n",
      "\n",
      "\\\n",
      "\n",
      "\\\n",
      "\n",
      "/43/ from a police summary of information.\\\n",
      "\n",
      "\\\n",
      "\n",
      "/54\\\n",
      "\n",
      ", July 30, 1958; Caribou Head, Maine. 9 p.m. Witness:  R.N.\\\n",
      "\n",
      "\\\n",
      "\n",
      "rock. One round, very bright, very white, very clear, circular disc or body part,\\\n",
      "\n",
      "\\\n",
      "\n",
      "10 in group, flew straight and level, then hovered or zigzagged.  Seen for 1.5\\\n",
      "\n",
      "hours.\\\n",
      "\n",
      "\\\n",
      "\n",
      "39\\\n",
      "\n",
      ", July 30, 1958; Lake City, Mississippi. The next day, July 31.\\\n",
      "\n",
      "63;  The Woodlands, Texas. 6:45 a.m. Witnesses:  representative\\\n",
      "\n",
      "\\\n",
      "\n",
      "information from the son of Maj. D.D. Taylor, commander of 1st U.S. Marine Division.\\\n",
      "\n",
      "A squadron of F-84 jet fighters at Ft. Bragg, North Carolina.  One dark,\\\n",
      "\n",
      "\\\n",
      "\n",
      "creepy-looking, shiny-silver, elliptical object flew at more than 400 m.p.h.,\\\n",
      "\n",
      "\\\n",
      "\n",
      "twice each attempt veered off course and descended at 50-80% the speed.\\\n",
      "\n",
      "\\\n",
      "\n",
      "45\\\n",
      "\n",
      ", July-August, 1958; Manilla Beach, Philippines. 8:30 p.m. Witness:\\\n",
      "\n",
      "\\\n",
      "\n",
      "*1st Lt. W.C. Taylor, Marine Corps.  Radar tracked a small jet airliner,\\\n",
      "\n",
      "\\\n",
      "\n",
      "black with red streaks, downing some on-board personnel during the 15 minute\\\n",
      "\n",
      "observation.\\\n",
      "\n",
      "\\\n",
      "\n",
      "43\\\n",
      "\n",
      ", July-Aug. 1958; Goose AFB, Alberta, Canada. 8:20 p.m.\\\n",
      "' Sighting. 2 targets confirmed as C-124 transport planes.\\\n",
      "\n",
      "44\\\n",
      "\n",
      " Note:  this was the 699rd sighting on the USAF's hit list for that date.\\\n",
      "\n",
      "\\\n",
      "\n",
      "47\\\n",
      "\n",
      ", July-Aug. 1958; Keflavik, Iceland. J75(t).  8-10 h.m. . Witnesses:\\\n",
      "\n",
      "\\\n",
      "\n",
      "?Capt. B.G. Smith, and eight crew members of the 37th Fighter-Trainer Squadron,\\\n",
      "\n",
      "?332nd AC&W Wing, 4th Fighter-Group, 10th AF; Biloxi, Mississippi.\\\n",
      "\n",
      "? Date not known.\\\n",
      "\n",
      "?July 25-27, 1958; Keflavik, Iceland.  8:50 a.m.  and 1:05 p.m.\\\n",
      "\n",
      "?P.m.  (1:05 p.m. was his sighting).  Eight to ten very bright, oval,\\\n",
      "\n",
      "?ball-shaped objects, with transom surfaces and colored rings around\\\n",
      "\n",
      "?them, flew a very fast and erratic arc from northwest to southeast\\\n",
      "\n",
      "?in an arc-like path, in less than 5 minutes. The course varied from\\\n",
      "\n",
      "?380 kts. to over 4,500 kts.\\\n",
      "\n",
      "?46 hours.\n",
      "\n",
      "[410 | 528.09] loss=0.19 avg=0.62\n",
      "[420 | 546.46] loss=0.28 avg=0.60\n",
      "[430 | 564.83] loss=0.21 avg=0.59\n",
      "[440 | 583.22] loss=0.23 avg=0.57\n",
      "[450 | 601.61] loss=0.18 avg=0.56\n",
      "Saving checkpoint/run1/model-450\n"
     ]
    }
   ],
   "source": [
    "gpt2.finetune(sess,\n",
    "              dataset=file_name,\n",
    "              model_name=model_name,\n",
    "              steps=300,\n",
    "              restore_from='latest', # change to 'latest' to resume\n",
    "              run_name='run1',\n",
    "              print_every=10,\n",
    "              learning_rate=1e-5,\n",
    "              sample_every=100,\n",
    "              save_every=100\n",
    "              )"
   ]
  },
  {
   "cell_type": "markdown",
   "metadata": {
    "id": "ClJwpF_ACONp"
   },
   "source": [
    "# 3. Generate Text From The Finetuned Model\n",
    "\n",
    "After you've trained the model or loaded a retrained model from checkpoint, you can now generate text. `generate` generates a single text from the loaded model."
   ]
  },
  {
   "cell_type": "code",
   "execution_count": null,
   "metadata": {
    "colab": {
     "base_uri": "https://localhost:8080/"
    },
    "id": "4RNY6RBI9LmL",
    "outputId": "82574eaa-d39a-4665-b611-e5172848da57"
   },
   "outputs": [],
   "source": [
    "# gpt2.generate(sess, run_name='run1') # no prefix, unconditional generation"
   ]
  },
  {
   "cell_type": "code",
   "execution_count": 15,
   "metadata": {},
   "outputs": [
    {
     "name": "stdout",
     "output_type": "stream",
     "text": [
      "Kansas City, Missouri, Aug. 6, 1963. #8 while enroute from Denver, Colorado, to St Louis, Missouri, a bright light with crossed flame-ers^ appeared and, shooting straight up in the east,\\\n",
      "       hovered about 400 yards (200 m.) above the airport, and then,\\\n",
      "       at 4:04 p.m.\\\n",
      "\\\n",
      "       Aug. 8, 1963; Springfield, Missouri. #1. One white round-oval object with\\\n",
      "       three white lights arranged around it, and from the center, a\\\n",
      "       vague multicolored light.  The weather was cloudy and frosty.\\\n",
      "       Sighting lasted 15 minutes.\\\n",
      "\\\n",
      "       Aug. 9, 1963; Salisbury, North Carolina. #1. 11:46 p.m.\\\n",
      "       Witnesses:  Instructor J. Marshall, and few others.  One white,\\\n",
      "       medical-type object, shaped like a stacked wok, metallic all around,\\\n",
      "       with a circular bottom, having a dome, emitting a yellow-green light,\\\n",
      "       and being backed up by a stationary C-54 transport plane.  The\\\n",
      "       object then slowed down considerably, and some of the blue light emitted\\\n",
      "       faded.  Objects in the outer rings appeared smaller.  Sighting\\\n",
      "       lasted 20 minutes.\\\n",
      "\\\n",
      "       Aug. 9, 1963; White Lake, North Carolina. #1 time of day\\\n",
      "       unspecified.  One white object with three red lights around\\\n",
      "       center which emitted rushing water and incomprehensible noises.  Observed\\\n",
      "       by radar at Kwajalein Atoll, Hawaii.\\\n",
      "\\\n",
      "       Aug. 13, 1963; Haneda AFB, Japan. 10:16 p.m. Witness:  USAF\\\n",
      "       Maj. W.F. Davis, of Indiana University's Military Religious Freedom Foundation.\\\n",
      "       One object, shaped like a plate, translucent but with a metallic\\\n",
      "       core, entered through a crack in the bottom of the airplane and disappeared\\\n",
      "       after 5-10 seconds.\\\n",
      "\\\n",
      "       Aug. 17, 1963; Terciera Islands, Florida. 11:05 p.m. Witnesses:\\\n",
      "       Lt. C.R. Davis and four other Air National Guard airmen.\\\n",
      "       Two 500' black rectangles, 12' long and 4' thick, descending at\\\n",
      "       300-350' per second.  One descended at more than 1,000'.\\\n",
      "\\\n",
      "       Aug. 20, 1963; Raymond, Texas. 9:45 p.m.  Witness:  Wilhelm\\\n",
      "       Reich. Nine-tenths mile dark.  Three-dimensional object made\\\n",
      "       a \"whisper\" like noise. First appeared vertical, then horizontal.\\\n",
      "       Sounded like compressed air.\\\n",
      "\\\n",
      "       Aug. 22, 1963; Dallas, Texas. 9:30 p.m.  Witnesses:  Mr. and\\\n",
      "       Mrs. Witness:  Transportation for Film and Television Academy board\\\n",
      "       member Dick Leonard. One large, round-bottomed, silver, aerodynamic\\\n",
      "       plane; 10' high, 8'03 broad, 10' thin; getting blue-green.  One\\\n",
      "       bright yellow light blinked her red lights once.\\\n",
      "\\\n",
      "       Aug. 24, 1963; Oldtown, Florida.  9:05 p.m.  Witness:  Mrs.\\\n",
      "       David Austin. One 9' black diamond-shaped object with a dome flew\\\n",
      "       straight and level at 300' for 8-10 minutes.\\\n",
      "\\\n",
      "       Aug. 26, 1963; Concord, New Hampshire. 11 p.m. Witness:  Turi\\\n",
      "       Wagner, daughter.  One blue-white, pulsing object having the form of\\\n",
      "      \n"
     ]
    }
   ],
   "source": [
    "gpt2.generate(sess, run_name='run1', prefix=\"Kansas City, Missouri\")"
   ]
  },
  {
   "cell_type": "markdown",
   "metadata": {
    "id": "oF4-PqF0Fl7R"
   },
   "source": [
    "## Notes\n",
    "If you're creating an API based on your model and need to pass the generated text elsewhere, you can do `text = gpt2.generate(sess, return_as_list=True)[0]`\n",
    "\n",
    "You can also pass in a `prefix` to the generate function to force the text to start with a given character sequence and generate text from there (good if you add an indicator when the text starts).\n",
    "\n",
    "You can also generate multiple texts at a time by specifing `nsamples`. Unique to GPT-2, you can pass a `batch_size` to generate multiple samples in parallel, giving a massive speedup (in Colaboratory, set a maximum of 20 for `batch_size`).\n",
    "\n",
    "Other optional-but-helpful parameters for `gpt2.generate` and friends:\n",
    "\n",
    "*  **`length`**: Number of tokens to generate (default 1023, the maximum)\n",
    "* **`temperature`**: The higher the temperature, the crazier the text (default 0.7, recommended to keep between 0.7 and 1.0)\n",
    "* **`top_k`**: Limits the generated guesses to the top *k* guesses (default 0 which disables the behavior; if the generated output is super crazy, you may want to set `top_k=40`)\n",
    "* **`top_p`**: Nucleus sampling: limits the generated guesses to a cumulative probability. (gets good results on a dataset with `top_p=0.9`)\n",
    "* **`truncate`**: Truncates the input text until a given sequence, excluding that sequence (e.g. if `truncate='<|endoftext|>'`, the returned text will include everything before the first `<|endoftext|>`). It may be useful to combine this with a smaller `length` if the input texts are short.\n",
    "*  **`include_prefix`**: If using `truncate` and `include_prefix=False`, the specified `prefix` will not be included in the returned text."
   ]
  },
  {
   "cell_type": "code",
   "execution_count": null,
   "metadata": {
    "colab": {
     "base_uri": "https://localhost:8080/"
    },
    "id": "8DKMc0fiej4N",
    "outputId": "490a4648-d973-4675-cf9a-7a48c16fd736"
   },
   "outputs": [],
   "source": [
    "gpt2.generate(sess,\n",
    "              length=250,\n",
    "              temperature=0.85,\n",
    "              prefix=\"Kansas City, Missouri\"\n",
    "              nsamples=5,\n",
    "              batch_size=5\n",
    "              )"
   ]
  },
  {
   "cell_type": "markdown",
   "metadata": {
    "id": "zjjEN2Tafhl2"
   },
   "source": [
    "For bulk generation, you can generate a large amount of text to a file and sort out the samples locally on your computer. The next cell will generate a generated text file with a unique timestamp.\n",
    "\n",
    "You can rerun the cells as many times as you want for even more generated texts!"
   ]
  },
  {
   "cell_type": "code",
   "execution_count": null,
   "metadata": {
    "id": "Fa6p6arifSL0"
   },
   "outputs": [],
   "source": [
    "gen_file = 'gpt2_gentext_{:%Y%m%d_%H%M%S}.txt'.format(datetime.utcnow())\n",
    "\n",
    "gpt2.generate_to_file(sess,\n",
    "                      destination_path=gen_file,\n",
    "                      length=500,\n",
    "                      temperature=0.7,\n",
    "                      nsamples=100,\n",
    "                      batch_size=20\n",
    "                      )"
   ]
  },
  {
   "cell_type": "markdown",
   "metadata": {
    "id": "0-LRex8lfv1g"
   },
   "source": [
    "Download the file by hand in the browser at left."
   ]
  },
  {
   "cell_type": "markdown",
   "metadata": {},
   "source": [
    "## Load a Trained Model Checkpoint"
   ]
  },
  {
   "cell_type": "markdown",
   "metadata": {
    "id": "RTa6zf3e_9gV"
   },
   "source": [
    "Uploaded your saved checkpoint and unzip it.\n",
    "\n",
    "The next cell will allow you to load the retrained model checkpoint + metadata necessary to generate text.\n",
    "\n",
    "This will reset or start the tensorflow session as necessary."
   ]
  },
  {
   "cell_type": "code",
   "execution_count": null,
   "metadata": {
    "colab": {
     "base_uri": "https://localhost:8080/"
    },
    "id": "-fxL77nvAMAX",
    "outputId": "8938432a-3b86-4102-f32b-362721ecb897"
   },
   "outputs": [],
   "source": [
    "tf.compat.v1.reset_default_graph()\n",
    "\n",
    "if not sess:\n",
    "    sess = gpt2.start_tf_sess()\n",
    "else:\n",
    "    sess = gpt2.reset_session(sess)\n",
    "\n",
    "gpt2.load_gpt2(sess, run_name='run1')"
   ]
  },
  {
   "cell_type": "markdown",
   "metadata": {
    "id": "ig-KVgkCDCKD"
   },
   "source": [
    "# Etcetera\n",
    "\n",
    "If the notebook has errors (e.g. GPU Sync Fail), force-kill the Colaboratory virtual machine and restart it with the command below:"
   ]
  },
  {
   "cell_type": "code",
   "execution_count": null,
   "metadata": {
    "id": "rIHiVP53FnsX"
   },
   "outputs": [],
   "source": [
    "!kill -9 -1"
   ]
  },
  {
   "cell_type": "markdown",
   "metadata": {
    "id": "wmTXWNUygS5E"
   },
   "source": [
    "# License\n",
    "\n",
    "MIT License\n",
    "\n",
    "Copyright (c) 2019 Max Woolf\n",
    "\n",
    "Permission is hereby granted, free of charge, to any person obtaining a copy\n",
    "of this software and associated documentation files (the \"Software\"), to deal\n",
    "in the Software without restriction, including without limitation the rights\n",
    "to use, copy, modify, merge, publish, distribute, sublicense, and/or sell\n",
    "copies of the Software, and to permit persons to whom the Software is\n",
    "furnished to do so, subject to the following conditions:\n",
    "\n",
    "The above copyright notice and this permission notice shall be included in all\n",
    "copies or substantial portions of the Software.\n",
    "\n",
    "THE SOFTWARE IS PROVIDED \"AS IS\", WITHOUT WARRANTY OF ANY KIND, EXPRESS OR\n",
    "IMPLIED, INCLUDING BUT NOT LIMITED TO THE WARRANTIES OF MERCHANTABILITY,\n",
    "FITNESS FOR A PARTICULAR PURPOSE AND NONINFRINGEMENT. IN NO EVENT SHALL THE\n",
    "AUTHORS OR COPYRIGHT HOLDERS BE LIABLE FOR ANY CLAIM, DAMAGES OR OTHER\n",
    "LIABILITY, WHETHER IN AN ACTION OF CONTRACT, TORT OR OTHERWISE, ARISING FROM,\n",
    "OUT OF OR IN CONNECTION WITH THE SOFTWARE OR THE USE OR OTHER DEALINGS IN THE\n",
    "SOFTWARE."
   ]
  },
  {
   "cell_type": "markdown",
   "metadata": {},
   "source": [
    "# Reference\n",
    "- Max's [blog post](https://minimaxir.com/2019/09/howto-gpt2/) for more information how to use this notebook!\n",
    "- Original repo: [gpt-2-simple](https://github.com/minimaxir/gpt-2-simple) by [Max Woolf](http://minimaxir.com). \n",
    "- Original [google colab](https://colab.research.google.com/drive/1VLG8e7YSEwypxU-noRNhsv5dW4NfTGce) from Max."
   ]
  }
 ],
 "metadata": {
  "accelerator": "GPU",
  "colab": {
   "collapsed_sections": [],
   "include_colab_link": true,
   "name": "Train a GPT-2 Text-Generating Model w/ GPU",
   "provenance": []
  },
  "kernelspec": {
   "display_name": "TensorFlow GPU 2.6 (py39)",
   "language": "python",
   "name": "tensorflow-gpu-2.6-py39"
  },
  "language_info": {
   "codemirror_mode": {
    "name": "ipython",
    "version": 3
   },
   "file_extension": ".py",
   "mimetype": "text/x-python",
   "name": "python",
   "nbconvert_exporter": "python",
   "pygments_lexer": "ipython3",
   "version": "3.9.7"
  }
 },
 "nbformat": 4,
 "nbformat_minor": 4
}
